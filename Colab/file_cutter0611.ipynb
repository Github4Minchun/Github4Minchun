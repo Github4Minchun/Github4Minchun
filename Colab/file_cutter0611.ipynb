{
  "nbformat": 4,
  "nbformat_minor": 0,
  "metadata": {
    "colab": {
      "provenance": [],
      "authorship_tag": "ABX9TyPIZ8XxHcHBkK0PANts+/wP",
      "include_colab_link": true
    },
    "kernelspec": {
      "name": "python3",
      "display_name": "Python 3"
    },
    "language_info": {
      "name": "python"
    }
  },
  "cells": [
    {
      "cell_type": "markdown",
      "metadata": {
        "id": "view-in-github",
        "colab_type": "text"
      },
      "source": [
        "<a href=\"https://colab.research.google.com/github/Github4Minchun/Github4Minchun/blob/main/Colab/file_cutter0611.ipynb\" target=\"_parent\"><img src=\"https://colab.research.google.com/assets/colab-badge.svg\" alt=\"Open In Colab\"/></a>"
      ]
    },
    {
      "cell_type": "code",
      "execution_count": null,
      "metadata": {
        "id": "F7iuQ_EGJFNA"
      },
      "outputs": [],
      "source": [
        "#!/usr/bin/env python3\n",
        "# -*- coding: utf-8 -*-\n",
        "\"\"\"\n",
        "Created on Sat Apr 15 15:18:54 2023\n",
        "\n",
        "@author: minchun\n",
        "\"\"\"\n",
        "\n",
        "import os\n",
        "\n",
        "# 設定原始檔案所在的資料夾和切割後的檔案要儲存的資料夾\n",
        "input_folder = 'input'  # 原始檔案所在的資料夾\n",
        "output_folder = 'output'  # 切割後檔案要儲存的資料夾\n",
        "\n",
        "# 確認切割後檔案要儲存的資料夾是否存在，如果不存在就建立資料夾\n",
        "if not os.path.exists(output_folder):\n",
        "    os.mkdir(output_folder)\n",
        "\n",
        "# 取得原始檔案資料夾中的所有檔案\n",
        "input_files = os.listdir(input_folder)\n",
        "\n",
        "# 迭代處理每個原始檔案\n",
        "for input_file in input_files:\n",
        "    # 組合原始檔案的完整路徑\n",
        "    input_file_path = os.path.join(input_folder, input_file)\n",
        "\n",
        "    # 判斷是否為檔案 (不是資料夾)\n",
        "    if os.path.isfile(input_file_path):\n",
        "        # 讀取原始檔案內容\n",
        "        with open(input_file_path, 'r', encoding='utf-8') as f:\n",
        "            content = f.read()\n",
        "\n",
        "        # 切割內容成段落\n",
        "        paragraphs = content.split('\\n\\n')\n",
        "\n",
        "        # 建立儲存切割後檔案的資料夾，資料夾名稱為原始檔案名稱\n",
        "        output_subfolder = os.path.splitext(input_file)[0]\n",
        "        output_subfolder_path = os.path.join(output_folder, output_subfolder)\n",
        "        if not os.path.exists(output_subfolder_path):\n",
        "            os.mkdir(output_subfolder_path)\n",
        "\n",
        "        # 迭代處理每個切割後的段落\n",
        "        for i, paragraph in enumerate(paragraphs):\n",
        "            # 組合切割後檔案的檔名\n",
        "            output_file = os.path.join(output_subfolder_path, f\"{output_subfolder}_{i+1}.txt\")\n",
        "\n",
        "            # 寫入切割後的段落到新檔案\n",
        "            with open(output_file, 'w', encoding='utf-8') as f:\n",
        "                f.write(paragraph)\n",
        "\n",
        "            #print(f'完成{input_files}分割！)"
      ]
    }
  ]
}